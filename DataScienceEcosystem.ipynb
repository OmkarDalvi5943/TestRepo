{
 "cells": [
  {
   "cell_type": "markdown",
   "id": "64408808-8750-4bfe-be4d-b71e1d8fae16",
   "metadata": {},
   "source": [
    "# Data Science Tools and Ecosystem"
   ]
  },
  {
   "cell_type": "markdown",
   "id": "90d45132-0b4e-4529-a95b-11951857c7f7",
   "metadata": {},
   "source": [
    "In this notebook, Data Science Tools and Ecosystem are summarized."
   ]
  },
  {
   "cell_type": "markdown",
   "id": "7cbd777a-31d2-45f8-a0d5-e923d1993f0b",
   "metadata": {},
   "source": [
    "**Objectives**\n",
    "- Python\n",
    "- R\n",
    "- SQL"
   ]
  },
  {
   "cell_type": "markdown",
   "id": "3a5b1b56-28af-4e30-87cd-a5ff60b46e10",
   "metadata": {},
   "source": [
    "Some of the popular languages that Data Scientists use are:\n",
    "1. Python\n",
    "2. R\n",
    "3. SQL"
   ]
  },
  {
   "cell_type": "markdown",
   "id": "924a6542-c6ce-4cfb-a66a-23b73eff3e25",
   "metadata": {},
   "source": [
    "Some of the commonly used libraries used by Data Scientists include:\n",
    "- NumPy\n",
    "- Matplotlib\n",
    "- Pandas\n",
    "- SciPy\n"
   ]
  },
  {
   "cell_type": "markdown",
   "id": "c66ca33c-4350-40da-a0c8-9230451fa2da",
   "metadata": {},
   "source": [
    "| Data Science Tools |\n",
    "| -- |\n",
    "| Scikit-learn |\n",
    "| TensorFlow |\n",
    "| PyTorch |"
   ]
  },
  {
   "cell_type": "markdown",
   "id": "0a62529a-b25d-4b15-aa2c-1140bd38e989",
   "metadata": {},
   "source": [
    "### Below are a few examples of evaluating arithmetic expressions in Python"
   ]
  },
  {
   "cell_type": "code",
   "execution_count": 1,
   "id": "60da5d2a-901f-47e9-ba6a-afda066ae6cc",
   "metadata": {},
   "outputs": [
    {
     "data": {
      "text/plain": [
       "17"
      ]
     },
     "execution_count": 1,
     "metadata": {},
     "output_type": "execute_result"
    }
   ],
   "source": [
    "# This a simple arithmetic expression to mutiply then add integers\n",
    "\n",
    "(3*4)+5"
   ]
  },
  {
   "cell_type": "code",
   "execution_count": 2,
   "id": "d11abbd2-4c48-4a92-b172-2c957a40ad78",
   "metadata": {},
   "outputs": [
    {
     "data": {
      "text/plain": [
       "3.3333333333333335"
      ]
     },
     "execution_count": 2,
     "metadata": {},
     "output_type": "execute_result"
    }
   ],
   "source": [
    "# This will convert 200 minutes to hours by diving by 60\n",
    "\n",
    "200/60"
   ]
  },
  {
   "cell_type": "markdown",
   "id": "938bf460-6990-4ac9-9689-6a701522a61a",
   "metadata": {},
   "source": [
    "## Author\n",
    "Omkar Dalvi"
   ]
  },
  {
   "cell_type": "code",
   "execution_count": null,
   "id": "35c34cbe-e186-4776-b365-58e42496a29e",
   "metadata": {},
   "outputs": [],
   "source": []
  }
 ],
 "metadata": {
  "kernelspec": {
   "display_name": "Python 3 (ipykernel)",
   "language": "python",
   "name": "python3"
  },
  "language_info": {
   "codemirror_mode": {
    "name": "ipython",
    "version": 3
   },
   "file_extension": ".py",
   "mimetype": "text/x-python",
   "name": "python",
   "nbconvert_exporter": "python",
   "pygments_lexer": "ipython3",
   "version": "3.12.8"
  }
 },
 "nbformat": 4,
 "nbformat_minor": 5
}
